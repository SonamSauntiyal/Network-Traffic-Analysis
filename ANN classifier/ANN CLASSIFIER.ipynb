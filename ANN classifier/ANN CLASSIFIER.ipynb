{
 "cells": [
  {
   "cell_type": "code",
   "execution_count": 1,
   "id": "2b1173ab",
   "metadata": {},
   "outputs": [],
   "source": [
    "import numpy as np\n",
    "import pandas as pd\n",
    "import matplotlib.pyplot as plt\n",
    "import seaborn as sns"
   ]
  },
  {
   "cell_type": "code",
   "execution_count": 2,
   "id": "9caadb6e",
   "metadata": {},
   "outputs": [],
   "source": [
    "from sklearn.model_selection import train_test_split\n",
    "from sklearn.preprocessing import LabelEncoder, StandardScaler"
   ]
  },
  {
   "cell_type": "code",
   "execution_count": 3,
   "id": "5be92e07",
   "metadata": {},
   "outputs": [],
   "source": [
    "from keras.utils import plot_model \n",
    "from keras.models import Sequential, load_model\n",
    "from keras.models import Sequential\n",
    "from keras.layers import Dense\n",
    "from keras.utils import np_utils"
   ]
  },
  {
   "cell_type": "code",
   "execution_count": 4,
   "id": "8d22eca9",
   "metadata": {},
   "outputs": [],
   "source": [
    "attack_data=pd.read_csv('../DataSet/dataset_attack.csv')\n",
    "normal_data=pd.read_csv('../DataSet/dataset_normal.csv')"
   ]
  },
  {
   "cell_type": "code",
   "execution_count": 5,
   "id": "18f113f7",
   "metadata": {},
   "outputs": [],
   "source": [
    "normal_data.columns=[ 'frame.len', 'frame.protocols', 'ip.hdr_len',\n",
    "       'ip.len', 'ip.flags.rb', 'ip.flags.df', 'p.flags.mf', 'ip.frag_offset',\n",
    "       'ip.ttl', 'ip.proto', 'ip.src', 'ip.dst', 'tcp.srcport', 'tcp.dstport',\n",
    "       'tcp.len', 'tcp.ack', 'tcp.flags.res', 'tcp.flags.ns', 'tcp.flags.cwr',\n",
    "       'tcp.flags.ecn', 'tcp.flags.urg', 'tcp.flags.ack', 'tcp.flags.push',\n",
    "       'tcp.flags.reset', 'tcp.flags.syn', 'tcp.flags.fin', 'tcp.window_size',\n",
    "       'tcp.time_delta','class']\n",
    "attack_data.columns=[ 'frame.len', 'frame.protocols', 'ip.hdr_len',\n",
    "       'ip.len', 'ip.flags.rb', 'ip.flags.df', 'p.flags.mf', 'ip.frag_offset',\n",
    "       'ip.ttl', 'ip.proto', 'ip.src', 'ip.dst', 'tcp.srcport', 'tcp.dstport',\n",
    "       'tcp.len', 'tcp.ack', 'tcp.flags.res', 'tcp.flags.ns', 'tcp.flags.cwr',\n",
    "       'tcp.flags.ecn', 'tcp.flags.urg', 'tcp.flags.ack', 'tcp.flags.push',\n",
    "       'tcp.flags.reset', 'tcp.flags.syn', 'tcp.flags.fin', 'tcp.window_size',\n",
    "       'tcp.time_delta','class']"
   ]
  },
  {
   "cell_type": "code",
   "execution_count": 6,
   "id": "24612b9d",
   "metadata": {},
   "outputs": [],
   "source": [
    "drop_col=['ip.src', 'ip.dst','frame.protocols']\n",
    "normal_data=normal_data.drop(drop_col,axis=1)\n",
    "attack_data=attack_data.drop(drop_col,axis=1)"
   ]
  },
  {
   "cell_type": "code",
   "execution_count": 7,
   "id": "eca5ecd6",
   "metadata": {},
   "outputs": [
    {
     "data": {
      "text/html": [
       "<div>\n",
       "<style scoped>\n",
       "    .dataframe tbody tr th:only-of-type {\n",
       "        vertical-align: middle;\n",
       "    }\n",
       "\n",
       "    .dataframe tbody tr th {\n",
       "        vertical-align: top;\n",
       "    }\n",
       "\n",
       "    .dataframe thead th {\n",
       "        text-align: right;\n",
       "    }\n",
       "</style>\n",
       "<table border=\"1\" class=\"dataframe\">\n",
       "  <thead>\n",
       "    <tr style=\"text-align: right;\">\n",
       "      <th></th>\n",
       "      <th>frame.len</th>\n",
       "      <th>ip.hdr_len</th>\n",
       "      <th>ip.len</th>\n",
       "      <th>ip.flags.rb</th>\n",
       "      <th>ip.flags.df</th>\n",
       "      <th>p.flags.mf</th>\n",
       "      <th>ip.frag_offset</th>\n",
       "      <th>ip.ttl</th>\n",
       "      <th>ip.proto</th>\n",
       "      <th>tcp.srcport</th>\n",
       "      <th>...</th>\n",
       "      <th>tcp.flags.ecn</th>\n",
       "      <th>tcp.flags.urg</th>\n",
       "      <th>tcp.flags.ack</th>\n",
       "      <th>tcp.flags.push</th>\n",
       "      <th>tcp.flags.reset</th>\n",
       "      <th>tcp.flags.syn</th>\n",
       "      <th>tcp.flags.fin</th>\n",
       "      <th>tcp.window_size</th>\n",
       "      <th>tcp.time_delta</th>\n",
       "      <th>class</th>\n",
       "    </tr>\n",
       "  </thead>\n",
       "  <tbody>\n",
       "    <tr>\n",
       "      <th>1</th>\n",
       "      <td>206</td>\n",
       "      <td>20</td>\n",
       "      <td>192</td>\n",
       "      <td>0</td>\n",
       "      <td>1</td>\n",
       "      <td>0</td>\n",
       "      <td>0</td>\n",
       "      <td>128</td>\n",
       "      <td>6</td>\n",
       "      <td>4175</td>\n",
       "      <td>...</td>\n",
       "      <td>0</td>\n",
       "      <td>0</td>\n",
       "      <td>1</td>\n",
       "      <td>1</td>\n",
       "      <td>0</td>\n",
       "      <td>0</td>\n",
       "      <td>0</td>\n",
       "      <td>16697</td>\n",
       "      <td>0.000000</td>\n",
       "      <td>normal</td>\n",
       "    </tr>\n",
       "    <tr>\n",
       "      <th>1</th>\n",
       "      <td>60</td>\n",
       "      <td>20</td>\n",
       "      <td>40</td>\n",
       "      <td>0</td>\n",
       "      <td>1</td>\n",
       "      <td>0</td>\n",
       "      <td>0</td>\n",
       "      <td>64</td>\n",
       "      <td>6</td>\n",
       "      <td>22</td>\n",
       "      <td>...</td>\n",
       "      <td>0</td>\n",
       "      <td>0</td>\n",
       "      <td>1</td>\n",
       "      <td>0</td>\n",
       "      <td>0</td>\n",
       "      <td>0</td>\n",
       "      <td>0</td>\n",
       "      <td>7504</td>\n",
       "      <td>0.000537</td>\n",
       "      <td>normal</td>\n",
       "    </tr>\n",
       "    <tr>\n",
       "      <th>1</th>\n",
       "      <td>60</td>\n",
       "      <td>20</td>\n",
       "      <td>40</td>\n",
       "      <td>0</td>\n",
       "      <td>1</td>\n",
       "      <td>0</td>\n",
       "      <td>0</td>\n",
       "      <td>63</td>\n",
       "      <td>6</td>\n",
       "      <td>22</td>\n",
       "      <td>...</td>\n",
       "      <td>0</td>\n",
       "      <td>0</td>\n",
       "      <td>1</td>\n",
       "      <td>0</td>\n",
       "      <td>0</td>\n",
       "      <td>0</td>\n",
       "      <td>0</td>\n",
       "      <td>7504</td>\n",
       "      <td>0.000155</td>\n",
       "      <td>normal</td>\n",
       "    </tr>\n",
       "    <tr>\n",
       "      <th>1</th>\n",
       "      <td>774</td>\n",
       "      <td>20</td>\n",
       "      <td>760</td>\n",
       "      <td>0</td>\n",
       "      <td>1</td>\n",
       "      <td>0</td>\n",
       "      <td>0</td>\n",
       "      <td>64</td>\n",
       "      <td>6</td>\n",
       "      <td>22</td>\n",
       "      <td>...</td>\n",
       "      <td>0</td>\n",
       "      <td>0</td>\n",
       "      <td>1</td>\n",
       "      <td>1</td>\n",
       "      <td>0</td>\n",
       "      <td>0</td>\n",
       "      <td>0</td>\n",
       "      <td>7504</td>\n",
       "      <td>0.004483</td>\n",
       "      <td>normal</td>\n",
       "    </tr>\n",
       "    <tr>\n",
       "      <th>1</th>\n",
       "      <td>774</td>\n",
       "      <td>20</td>\n",
       "      <td>760</td>\n",
       "      <td>0</td>\n",
       "      <td>1</td>\n",
       "      <td>0</td>\n",
       "      <td>0</td>\n",
       "      <td>63</td>\n",
       "      <td>6</td>\n",
       "      <td>22</td>\n",
       "      <td>...</td>\n",
       "      <td>0</td>\n",
       "      <td>0</td>\n",
       "      <td>1</td>\n",
       "      <td>1</td>\n",
       "      <td>0</td>\n",
       "      <td>0</td>\n",
       "      <td>0</td>\n",
       "      <td>7504</td>\n",
       "      <td>0.001321</td>\n",
       "      <td>normal</td>\n",
       "    </tr>\n",
       "  </tbody>\n",
       "</table>\n",
       "<p>5 rows × 26 columns</p>\n",
       "</div>"
      ],
      "text/plain": [
       "   frame.len  ip.hdr_len  ip.len  ip.flags.rb  ip.flags.df  p.flags.mf  \\\n",
       "1        206          20     192            0            1           0   \n",
       "1         60          20      40            0            1           0   \n",
       "1         60          20      40            0            1           0   \n",
       "1        774          20     760            0            1           0   \n",
       "1        774          20     760            0            1           0   \n",
       "\n",
       "   ip.frag_offset  ip.ttl  ip.proto  tcp.srcport  ...  tcp.flags.ecn  \\\n",
       "1               0     128         6         4175  ...              0   \n",
       "1               0      64         6           22  ...              0   \n",
       "1               0      63         6           22  ...              0   \n",
       "1               0      64         6           22  ...              0   \n",
       "1               0      63         6           22  ...              0   \n",
       "\n",
       "   tcp.flags.urg  tcp.flags.ack  tcp.flags.push  tcp.flags.reset  \\\n",
       "1              0              1               1                0   \n",
       "1              0              1               0                0   \n",
       "1              0              1               0                0   \n",
       "1              0              1               1                0   \n",
       "1              0              1               1                0   \n",
       "\n",
       "   tcp.flags.syn  tcp.flags.fin  tcp.window_size  tcp.time_delta   class  \n",
       "1              0              0            16697        0.000000  normal  \n",
       "1              0              0             7504        0.000537  normal  \n",
       "1              0              0             7504        0.000155  normal  \n",
       "1              0              0             7504        0.004483  normal  \n",
       "1              0              0             7504        0.001321  normal  \n",
       "\n",
       "[5 rows x 26 columns]"
      ]
     },
     "execution_count": 7,
     "metadata": {},
     "output_type": "execute_result"
    }
   ],
   "source": [
    "normal_data.head(5)"
   ]
  },
  {
   "cell_type": "code",
   "execution_count": 8,
   "id": "79af0476",
   "metadata": {},
   "outputs": [
    {
     "data": {
      "text/html": [
       "<div>\n",
       "<style scoped>\n",
       "    .dataframe tbody tr th:only-of-type {\n",
       "        vertical-align: middle;\n",
       "    }\n",
       "\n",
       "    .dataframe tbody tr th {\n",
       "        vertical-align: top;\n",
       "    }\n",
       "\n",
       "    .dataframe thead th {\n",
       "        text-align: right;\n",
       "    }\n",
       "</style>\n",
       "<table border=\"1\" class=\"dataframe\">\n",
       "  <thead>\n",
       "    <tr style=\"text-align: right;\">\n",
       "      <th></th>\n",
       "      <th>frame.len</th>\n",
       "      <th>ip.hdr_len</th>\n",
       "      <th>ip.len</th>\n",
       "      <th>ip.flags.rb</th>\n",
       "      <th>ip.flags.df</th>\n",
       "      <th>p.flags.mf</th>\n",
       "      <th>ip.frag_offset</th>\n",
       "      <th>ip.ttl</th>\n",
       "      <th>ip.proto</th>\n",
       "      <th>tcp.srcport</th>\n",
       "      <th>...</th>\n",
       "      <th>tcp.flags.ecn</th>\n",
       "      <th>tcp.flags.urg</th>\n",
       "      <th>tcp.flags.ack</th>\n",
       "      <th>tcp.flags.push</th>\n",
       "      <th>tcp.flags.reset</th>\n",
       "      <th>tcp.flags.syn</th>\n",
       "      <th>tcp.flags.fin</th>\n",
       "      <th>tcp.window_size</th>\n",
       "      <th>tcp.time_delta</th>\n",
       "      <th>class</th>\n",
       "    </tr>\n",
       "  </thead>\n",
       "  <tbody>\n",
       "    <tr>\n",
       "      <th>1</th>\n",
       "      <td>212</td>\n",
       "      <td>20</td>\n",
       "      <td>198</td>\n",
       "      <td>0</td>\n",
       "      <td>0</td>\n",
       "      <td>0</td>\n",
       "      <td>0</td>\n",
       "      <td>112</td>\n",
       "      <td>17</td>\n",
       "      <td>0</td>\n",
       "      <td>...</td>\n",
       "      <td>0</td>\n",
       "      <td>0</td>\n",
       "      <td>0</td>\n",
       "      <td>0</td>\n",
       "      <td>0</td>\n",
       "      <td>0</td>\n",
       "      <td>0</td>\n",
       "      <td>0</td>\n",
       "      <td>0.0</td>\n",
       "      <td>attack</td>\n",
       "    </tr>\n",
       "    <tr>\n",
       "      <th>1</th>\n",
       "      <td>212</td>\n",
       "      <td>20</td>\n",
       "      <td>198</td>\n",
       "      <td>0</td>\n",
       "      <td>0</td>\n",
       "      <td>0</td>\n",
       "      <td>0</td>\n",
       "      <td>112</td>\n",
       "      <td>17</td>\n",
       "      <td>0</td>\n",
       "      <td>...</td>\n",
       "      <td>0</td>\n",
       "      <td>0</td>\n",
       "      <td>0</td>\n",
       "      <td>0</td>\n",
       "      <td>0</td>\n",
       "      <td>0</td>\n",
       "      <td>0</td>\n",
       "      <td>0</td>\n",
       "      <td>0.0</td>\n",
       "      <td>attack</td>\n",
       "    </tr>\n",
       "    <tr>\n",
       "      <th>1</th>\n",
       "      <td>212</td>\n",
       "      <td>20</td>\n",
       "      <td>198</td>\n",
       "      <td>0</td>\n",
       "      <td>0</td>\n",
       "      <td>0</td>\n",
       "      <td>0</td>\n",
       "      <td>112</td>\n",
       "      <td>17</td>\n",
       "      <td>0</td>\n",
       "      <td>...</td>\n",
       "      <td>0</td>\n",
       "      <td>0</td>\n",
       "      <td>0</td>\n",
       "      <td>0</td>\n",
       "      <td>0</td>\n",
       "      <td>0</td>\n",
       "      <td>0</td>\n",
       "      <td>0</td>\n",
       "      <td>0.0</td>\n",
       "      <td>attack</td>\n",
       "    </tr>\n",
       "    <tr>\n",
       "      <th>1</th>\n",
       "      <td>212</td>\n",
       "      <td>20</td>\n",
       "      <td>198</td>\n",
       "      <td>0</td>\n",
       "      <td>0</td>\n",
       "      <td>0</td>\n",
       "      <td>0</td>\n",
       "      <td>112</td>\n",
       "      <td>17</td>\n",
       "      <td>0</td>\n",
       "      <td>...</td>\n",
       "      <td>0</td>\n",
       "      <td>0</td>\n",
       "      <td>0</td>\n",
       "      <td>0</td>\n",
       "      <td>0</td>\n",
       "      <td>0</td>\n",
       "      <td>0</td>\n",
       "      <td>0</td>\n",
       "      <td>0.0</td>\n",
       "      <td>attack</td>\n",
       "    </tr>\n",
       "    <tr>\n",
       "      <th>1</th>\n",
       "      <td>62</td>\n",
       "      <td>20</td>\n",
       "      <td>48</td>\n",
       "      <td>0</td>\n",
       "      <td>0</td>\n",
       "      <td>0</td>\n",
       "      <td>0</td>\n",
       "      <td>128</td>\n",
       "      <td>17</td>\n",
       "      <td>0</td>\n",
       "      <td>...</td>\n",
       "      <td>0</td>\n",
       "      <td>0</td>\n",
       "      <td>0</td>\n",
       "      <td>0</td>\n",
       "      <td>0</td>\n",
       "      <td>0</td>\n",
       "      <td>0</td>\n",
       "      <td>0</td>\n",
       "      <td>0.0</td>\n",
       "      <td>attack</td>\n",
       "    </tr>\n",
       "  </tbody>\n",
       "</table>\n",
       "<p>5 rows × 26 columns</p>\n",
       "</div>"
      ],
      "text/plain": [
       "   frame.len  ip.hdr_len  ip.len  ip.flags.rb  ip.flags.df  p.flags.mf  \\\n",
       "1        212          20     198            0            0           0   \n",
       "1        212          20     198            0            0           0   \n",
       "1        212          20     198            0            0           0   \n",
       "1        212          20     198            0            0           0   \n",
       "1         62          20      48            0            0           0   \n",
       "\n",
       "   ip.frag_offset  ip.ttl  ip.proto  tcp.srcport  ...  tcp.flags.ecn  \\\n",
       "1               0     112        17            0  ...              0   \n",
       "1               0     112        17            0  ...              0   \n",
       "1               0     112        17            0  ...              0   \n",
       "1               0     112        17            0  ...              0   \n",
       "1               0     128        17            0  ...              0   \n",
       "\n",
       "   tcp.flags.urg  tcp.flags.ack  tcp.flags.push  tcp.flags.reset  \\\n",
       "1              0              0               0                0   \n",
       "1              0              0               0                0   \n",
       "1              0              0               0                0   \n",
       "1              0              0               0                0   \n",
       "1              0              0               0                0   \n",
       "\n",
       "   tcp.flags.syn  tcp.flags.fin  tcp.window_size  tcp.time_delta   class  \n",
       "1              0              0                0             0.0  attack  \n",
       "1              0              0                0             0.0  attack  \n",
       "1              0              0                0             0.0  attack  \n",
       "1              0              0                0             0.0  attack  \n",
       "1              0              0                0             0.0  attack  \n",
       "\n",
       "[5 rows x 26 columns]"
      ]
     },
     "execution_count": 8,
     "metadata": {},
     "output_type": "execute_result"
    }
   ],
   "source": [
    "attack_data.head(5)"
   ]
  },
  {
   "cell_type": "code",
   "execution_count": 9,
   "id": "7bca7cd7",
   "metadata": {},
   "outputs": [],
   "source": [
    "features=[ 'frame.len', 'ip.hdr_len',\n",
    "       'ip.len', 'ip.flags.rb', 'ip.flags.df', 'p.flags.mf', 'ip.frag_offset',\n",
    "       'ip.ttl', 'ip.proto', 'tcp.srcport', 'tcp.dstport',\n",
    "       'tcp.len', 'tcp.ack', 'tcp.flags.res', 'tcp.flags.ns', 'tcp.flags.cwr',\n",
    "       'tcp.flags.ecn', 'tcp.flags.urg', 'tcp.flags.ack', 'tcp.flags.push',\n",
    "       'tcp.flags.reset', 'tcp.flags.syn', 'tcp.flags.fin', 'tcp.window_size',\n",
    "       'tcp.time_delta']"
   ]
  },
  {
   "cell_type": "code",
   "execution_count": 10,
   "id": "3739d215",
   "metadata": {},
   "outputs": [],
   "source": [
    "X_normal= normal_data[features].values\n",
    "X_attack= attack_data[features].values\n",
    "Y_normal= normal_data['class']\n",
    "Y_attack= attack_data['class']\n",
    "X=np.concatenate((X_normal,X_attack))\n",
    "Y=np.concatenate((Y_normal,Y_attack))"
   ]
  },
  {
   "cell_type": "code",
   "execution_count": 11,
   "id": "0a5e89a4",
   "metadata": {},
   "outputs": [],
   "source": [
    "scalar = StandardScaler(copy=True, with_mean=True, with_std=True)\n",
    "scalar.fit(X)\n",
    "X = scalar.transform(X)"
   ]
  },
  {
   "cell_type": "code",
   "execution_count": 12,
   "id": "053b88d3",
   "metadata": {},
   "outputs": [],
   "source": [
    "for i in range(0,len(Y)):\n",
    "  if Y[i] ==\"attack\":\n",
    "    Y[i]=0\n",
    "  else:\n",
    "    Y[i]=1"
   ]
  },
  {
   "cell_type": "code",
   "execution_count": 13,
   "id": "068eefb5",
   "metadata": {},
   "outputs": [],
   "source": [
    "X_train, X_test, Y_train, Y_test = train_test_split(X, Y, test_size = 0.2)"
   ]
  },
  {
   "cell_type": "code",
   "execution_count": 14,
   "id": "a659f783",
   "metadata": {},
   "outputs": [],
   "source": [
    "X_train=np.asarray(X_train).astype(int)\n",
    "\n",
    "Y_train=np.asarray(Y_train).astype(int)\n",
    "X_test=np.asarray(X_test).astype(int)\n",
    "Y_test=np.asarray(Y_test).astype(int)"
   ]
  },
  {
   "cell_type": "code",
   "execution_count": 15,
   "id": "aebb8198",
   "metadata": {},
   "outputs": [
    {
     "name": "stdout",
     "output_type": "stream",
     "text": [
      "4527198\n"
     ]
    }
   ],
   "source": [
    "print(len(Y_train))"
   ]
  },
  {
   "cell_type": "code",
   "execution_count": 16,
   "id": "154721d1",
   "metadata": {},
   "outputs": [],
   "source": [
    "def create():\n",
    "    # create the model\n",
    "    model = Sequential()\n",
    "    model.add(Dense(8, kernel_initializer='normal', activation='relu'))\n",
    "    model.add(Dense(1, kernel_initializer='normal', activation='sigmoid'))\n",
    "    # Compile model. We use the the logarithmic loss function, and the Adam gradient optimizer.\n",
    "    model.compile(loss='binary_crossentropy', optimizer='adam', metrics=['accuracy'])\n",
    "    return model"
   ]
  },
  {
   "cell_type": "code",
   "execution_count": 17,
   "id": "b0ed675f",
   "metadata": {},
   "outputs": [],
   "source": [
    "model = create()"
   ]
  },
  {
   "cell_type": "code",
   "execution_count": 18,
   "id": "a37404e1",
   "metadata": {},
   "outputs": [
    {
     "name": "stdout",
     "output_type": "stream",
     "text": [
      "Epoch 1/20\n",
      "113180/113180 [==============================] - 338s 3ms/step - loss: 0.4133 - accuracy: 0.8121 - val_loss: 0.4059 - val_accuracy: 0.8146\n",
      "Epoch 2/20\n",
      "113180/113180 [==============================] - 200s 2ms/step - loss: 0.4047 - accuracy: 0.8141 - val_loss: 0.4052 - val_accuracy: 0.8137\n",
      "Epoch 3/20\n",
      "113180/113180 [==============================] - 124s 1ms/step - loss: 0.4038 - accuracy: 0.8142 - val_loss: 0.4046 - val_accuracy: 0.8134\n",
      "Epoch 4/20\n",
      "113180/113180 [==============================] - 124s 1ms/step - loss: 0.4032 - accuracy: 0.8142 - val_loss: 0.4039 - val_accuracy: 0.8132\n",
      "Epoch 5/20\n",
      "113180/113180 [==============================] - 120s 1ms/step - loss: 0.4028 - accuracy: 0.8144 - val_loss: 0.4048 - val_accuracy: 0.8131\n",
      "Epoch 6/20\n",
      "113180/113180 [==============================] - 127s 1ms/step - loss: 0.4025 - accuracy: 0.8145 - val_loss: 0.4041 - val_accuracy: 0.8140\n",
      "Epoch 7/20\n",
      "113180/113180 [==============================] - 131s 1ms/step - loss: 0.4024 - accuracy: 0.8146 - val_loss: 0.4034 - val_accuracy: 0.8144\n",
      "Epoch 8/20\n",
      "113180/113180 [==============================] - 121s 1ms/step - loss: 0.4024 - accuracy: 0.8146 - val_loss: 0.4034 - val_accuracy: 0.8147\n",
      "Epoch 9/20\n",
      "113180/113180 [==============================] - 126s 1ms/step - loss: 0.4022 - accuracy: 0.8146 - val_loss: 0.4045 - val_accuracy: 0.8146\n",
      "Epoch 10/20\n",
      "113180/113180 [==============================] - 123s 1ms/step - loss: 0.4021 - accuracy: 0.8147 - val_loss: 0.4047 - val_accuracy: 0.8145\n",
      "Epoch 11/20\n",
      "113180/113180 [==============================] - 123s 1ms/step - loss: 0.4022 - accuracy: 0.8144 - val_loss: 0.4043 - val_accuracy: 0.8139\n",
      "Epoch 12/20\n",
      "113180/113180 [==============================] - 124s 1ms/step - loss: 0.4022 - accuracy: 0.8144 - val_loss: 0.4034 - val_accuracy: 0.8136\n",
      "Epoch 13/20\n",
      "113180/113180 [==============================] - 138s 1ms/step - loss: 0.4021 - accuracy: 0.8145 - val_loss: 0.4040 - val_accuracy: 0.8142\n",
      "Epoch 14/20\n",
      "113180/113180 [==============================] - 125s 1ms/step - loss: 0.4021 - accuracy: 0.8146 - val_loss: 0.4036 - val_accuracy: 0.8142\n",
      "Epoch 15/20\n",
      "113180/113180 [==============================] - 126s 1ms/step - loss: 0.4020 - accuracy: 0.8146 - val_loss: 0.4058 - val_accuracy: 0.8144\n",
      "Epoch 16/20\n",
      "113180/113180 [==============================] - 124s 1ms/step - loss: 0.4020 - accuracy: 0.8146 - val_loss: 0.4040 - val_accuracy: 0.8143\n",
      "Epoch 17/20\n",
      "113180/113180 [==============================] - 125s 1ms/step - loss: 0.4020 - accuracy: 0.8146 - val_loss: 0.4036 - val_accuracy: 0.8144\n",
      "Epoch 18/20\n",
      "113180/113180 [==============================] - 121s 1ms/step - loss: 0.4018 - accuracy: 0.8146 - val_loss: 0.4028 - val_accuracy: 0.8144\n",
      "Epoch 19/20\n",
      "113180/113180 [==============================] - 121s 1ms/step - loss: 0.4018 - accuracy: 0.8146 - val_loss: 0.4029 - val_accuracy: 0.8142\n",
      "Epoch 20/20\n",
      "113180/113180 [==============================] - 120s 1ms/step - loss: 0.4017 - accuracy: 0.8148 - val_loss: 0.4028 - val_accuracy: 0.8144\n"
     ]
    }
   ],
   "source": [
    "history = model.fit(X_train, Y_train, validation_split = 0.2, epochs = 20)"
   ]
  },
  {
   "cell_type": "code",
   "execution_count": 19,
   "id": "60cfd3bf",
   "metadata": {},
   "outputs": [
    {
     "data": {
      "text/plain": [
       "dict_keys(['loss', 'accuracy', 'val_loss', 'val_accuracy'])"
      ]
     },
     "execution_count": 19,
     "metadata": {},
     "output_type": "execute_result"
    }
   ],
   "source": [
    "history.history.keys()"
   ]
  },
  {
   "cell_type": "code",
   "execution_count": 20,
   "id": "090400a0",
   "metadata": {},
   "outputs": [
    {
     "data": {
      "image/png": "[encoded data removed]",
      "text/plain": [
       "<Figure size 432x288 with 1 Axes>"
      ]
     },
     "metadata": {
      "needs_background": "light"
     },
     "output_type": "display_data"
    }
   ],
   "source": [
    "plt.plot(history.history['accuracy'])\n",
    "plt.plot(history.history['val_accuracy'])\n",
    "plt.title('ANN Model Accuracy')\n",
    "plt.ylabel('Accuracy')\n",
    "plt.xlabel('Epoch')\n",
    "plt.legend(['Train', 'Test'], loc='upper left')\n",
    "plt.savefig('Sample.png')\n",
    "plt.show()"
   ]
  },
  {
   "cell_type": "code",
   "execution_count": 21,
   "id": "8c606d6b",
   "metadata": {},
   "outputs": [
    {
     "data": {
      "image/png": "[encoded data removed]",
      "text/plain": [
       "<Figure size 432x288 with 1 Axes>"
      ]
     },
     "metadata": {
      "needs_background": "light"
     },
     "output_type": "display_data"
    }
   ],
   "source": [
    "plt.plot(history.history['loss'])\n",
    "plt.plot(history.history['val_loss'])\n",
    "plt.title('ANN Model Loss')\n",
    "plt.ylabel('Loss')\n",
    "plt.xlabel('Epoch')\n",
    "plt.legend(['Train', 'Test'], loc='upper left')\n",
    "plt.savefig('ANN Model loss.png')\n",
    "plt.show()"
   ]
  },
  {
   "cell_type": "code",
   "execution_count": 22,
   "id": "a91e4263",
   "metadata": {},
   "outputs": [
    {
     "name": "stdout",
     "output_type": "stream",
     "text": [
      "35369/35369 [==============================] - 27s 751us/step\n"
     ]
    }
   ],
   "source": [
    "predict = model.predict(X_test, verbose=1)"
   ]
  },
  {
   "cell_type": "code",
   "execution_count": 23,
   "id": "c21b837d",
   "metadata": {},
   "outputs": [],
   "source": [
    "tp = 0\n",
    "tn = 0\n",
    "fp = 0\n",
    "fn = 0\n",
    "predictn = predict.flatten().round()\n",
    "predictn = predictn.tolist()\n",
    "Y_testn = Y_test.tolist()\n",
    "for i in range(len(Y_testn)):\n",
    "  if predictn[i]==1 and Y_testn[i]==1:\n",
    "    tp+=1\n",
    "  elif predictn[i]==0 and Y_testn[i]==0:\n",
    "    tn+=1\n",
    "  elif predictn[i]==0 and Y_testn[i]==1:\n",
    "    fp+=1\n",
    "  elif predictn[i]==1 and Y_testn[i]==0:\n",
    "    fn+=1"
   ]
  },
  {
   "cell_type": "code",
   "execution_count": 24,
   "id": "bdb15aac",
   "metadata": {},
   "outputs": [
    {
     "data": {
      "image/png": "[encoded data removed]",
      "text/plain": [
       "<Figure size 432x288 with 2 Axes>"
      ]
     },
     "metadata": {
      "needs_background": "light"
     },
     "output_type": "display_data"
    }
   ],
   "source": [
    "to_heat_map =[[tn,fp],[fn,tp]]\n",
    "to_heat_map = pd.DataFrame(to_heat_map, index = [\"Attack\",\"Normal\"],columns = [\"Attack\",\"Normal\"])\n",
    "ax = sns.heatmap(to_heat_map,annot=True, fmt=\"d\")"
   ]
  },
  {
   "cell_type": "code",
   "execution_count": 25,
   "id": "2b2692d1",
   "metadata": {},
   "outputs": [],
   "source": [
    "figure = ax.get_figure()    \n",
    "figure.savefig('confusion.png', dpi=400)"
   ]
  },
  {
   "cell_type": "code",
   "execution_count": 26,
   "id": "d0ef4212",
   "metadata": {},
   "outputs": [
    {
     "name": "stdout",
     "output_type": "stream",
     "text": [
      "accuracy: 81.48%\n"
     ]
    }
   ],
   "source": [
    "scores = model.evaluate(X_test, Y_test, verbose=0)\n",
    "print(\"%s: %.2f%%\" % (model.metrics_names[1], scores[1]*100))"
   ]
  },
  {
   "cell_type": "code",
   "execution_count": null,
   "id": "3fb1232a",
   "metadata": {},
   "outputs": [],
   "source": []
  }
 ],
 "metadata": {
  "kernelspec": {
   "display_name": "Python 3 (ipykernel)",
   "language": "python",
   "name": "python3"
  },
  "language_info": {
   "codemirror_mode": {
    "name": "ipython",
    "version": 3
   },
   "file_extension": ".py",
   "mimetype": "text/x-python",
   "name": "python",
   "nbconvert_exporter": "python",
   "pygments_lexer": "ipython3",
   "version": "3.10.5"
  }
 },
 "nbformat": 4,
 "nbformat_minor": 5
}
